{
 "cells": [
  {
   "cell_type": "code",
   "execution_count": null,
   "metadata": {},
   "outputs": [],
   "source": [
    "import pandas as pd\n",
    "import numpy as np\n",
    "import os\n",
    "import librosa\n",
    "import librosa.display"
   ]
  },
  {
   "cell_type": "code",
   "execution_count": null,
   "metadata": {},
   "outputs": [],
   "source": [
    "import struct\n",
    "\n",
    "class WavFileHelper():\n",
    "    \n",
    "    def read_file_properties(self, filename):\n",
    "\n",
    "        wave_file = open(filename,\"rb\")\n",
    "        \n",
    "        riff = wave_file.read(12)\n",
    "        fmt = wave_file.read(36)\n",
    "        \n",
    "        num_channels_string = fmt[10:12]\n",
    "        num_channels = struct.unpack('<H', num_channels_string)[0]\n",
    "\n",
    "        sample_rate_string = fmt[12:16]\n",
    "        sample_rate = struct.unpack(\"<I\",sample_rate_string)[0]\n",
    "        \n",
    "        bit_depth_string = fmt[22:24]\n",
    "        bit_depth = struct.unpack(\"<H\",bit_depth_string)[0]\n",
    "\n",
    "        return (num_channels, sample_rate, bit_depth)\n",
    "\n",
    "wavfilehelper = WavFileHelper()"
   ]
  },
  {
   "cell_type": "code",
   "execution_count": null,
   "metadata": {},
   "outputs": [],
   "source": [
    "def extract_features(file_name):\n",
    "   \n",
    "    try:\n",
    "        audio_y, sample_rate = librosa.load(file_name, res_type='kaiser_best') \n",
    "        D = (librosa.stft(audio_y, center=False, n_fft=1024))\n",
    "        #print(D)\n",
    "        real = np.real(D)\n",
    "        imag = np.imag(D)\n",
    "        D_true = np.stack([real, imag], -1)\n",
    "        \n",
    "        #print(D_true.shape)\n",
    "        if(D_true.shape != (513, 341, 2)):\n",
    "            #print(\"ALERTTT\")\n",
    "            #print(D_true)\n",
    "            num_of_times_to_repeat = math.ceil(341 / D_true.shape[1])\n",
    "            D_true = np.repeat(D_true, num_of_times_to_repeat, axis=1)\n",
    "            D_true = D_true[:, 0:341, :]\n",
    "            #print(D_true.shape)\n",
    "            #print(D_true)\n",
    "        \n",
    "        #result = np.zeros(b.shape)\n",
    "\n",
    "        \n",
    "        #print(D_true.shape)\n",
    "        \n",
    "        #librosa.display.specshow(librosa.amplitude_to_db(D,\n",
    "        #                                         ref=np.max),\n",
    "        #                 y_axis='log', x_axis='time')\n",
    "        #plt.title('Power spectrogram')\n",
    "        #plt.colorbar(format='%+2.0f dB')\n",
    "        #plt.tight_layout()\n",
    "        #plt.show()\n",
    "        \n",
    "        \n",
    "    except Exception as e:\n",
    "        print(\"Error encountered while parsing file: \", file)\n",
    "        return None \n",
    "     \n",
    "    return (D_true)"
   ]
  }
 ],
 "metadata": {
  "kernelspec": {
   "display_name": "Python 3",
   "language": "python",
   "name": "python3"
  },
  "language_info": {
   "codemirror_mode": {
    "name": "ipython",
    "version": 3
   },
   "file_extension": ".py",
   "mimetype": "text/x-python",
   "name": "python",
   "nbconvert_exporter": "python",
   "pygments_lexer": "ipython3",
   "version": "3.7.7"
  }
 },
 "nbformat": 4,
 "nbformat_minor": 2
}
