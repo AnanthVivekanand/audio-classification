{
 "cells": [
  {
   "cell_type": "code",
   "execution_count": null,
   "metadata": {
    "colab": {
     "base_uri": "https://localhost:8080/",
     "height": 173
    },
    "id": "xKwIVHsxsx__",
    "outputId": "ba93af65-b6d4-4c69-ae22-65dc5a65c331"
   },
   "outputs": [
    {
     "name": "stdout",
     "output_type": "stream",
     "text": [
      "Requirement already satisfied: keras-tcn in /usr/local/lib/python3.6/dist-packages (3.1.1)\n",
      "Requirement already satisfied: keras==2.3.1 in /usr/local/lib/python3.6/dist-packages (from keras-tcn) (2.3.1)\n",
      "Requirement already satisfied: numpy>=1.18.1 in /usr/local/lib/python3.6/dist-packages (from keras-tcn) (1.18.5)\n",
      "Requirement already satisfied: keras-applications>=1.0.6 in /usr/local/lib/python3.6/dist-packages (from keras==2.3.1->keras-tcn) (1.0.8)\n",
      "Requirement already satisfied: h5py in /usr/local/lib/python3.6/dist-packages (from keras==2.3.1->keras-tcn) (2.10.0)\n",
      "Requirement already satisfied: keras-preprocessing>=1.0.5 in /usr/local/lib/python3.6/dist-packages (from keras==2.3.1->keras-tcn) (1.1.2)\n",
      "Requirement already satisfied: scipy>=0.14 in /usr/local/lib/python3.6/dist-packages (from keras==2.3.1->keras-tcn) (1.4.1)\n",
      "Requirement already satisfied: six>=1.9.0 in /usr/local/lib/python3.6/dist-packages (from keras==2.3.1->keras-tcn) (1.15.0)\n",
      "Requirement already satisfied: pyyaml in /usr/local/lib/python3.6/dist-packages (from keras==2.3.1->keras-tcn) (3.13)\n"
     ]
    }
   ],
   "source": [
    "pip install keras-tcn"
   ]
  },
  {
   "cell_type": "code",
   "execution_count": null,
   "metadata": {
    "colab": {
     "base_uri": "https://localhost:8080/",
     "height": 34
    },
    "id": "sPN9q9THtAx5",
    "outputId": "03f23fd2-cb17-4d21-97be-4e706fe444a9"
   },
   "outputs": [
    {
     "name": "stderr",
     "output_type": "stream",
     "text": [
      "Using TensorFlow backend.\n"
     ]
    }
   ],
   "source": [
    "from tensorflow.keras.layers import Dense\n",
    "from tensorflow.keras import Input, Model\n",
    "import tensorflow as tf\n",
    "from keras.models import Model, Sequential, load_model\n",
    "from tensorflow.keras.callbacks import History, ModelCheckpoint, TensorBoard\n",
    "import numpy as np\n",
    "from tcn import TCN, tcn_full_summary\n",
    "import pickle\n",
    "from urllib.request import urlopen\n",
    "import pandas as pd\n",
    "from sklearn.preprocessing import LabelEncoder\n",
    "from keras.utils import to_categorical\n",
    "from tcn import compiled_tcn\n",
    "import os"
   ]
  },
  {
   "cell_type": "code",
   "execution_count": null,
   "metadata": {
    "id": "vGERASomu-I8"
   },
   "outputs": [],
   "source": [
    "#from google.colab import drive\n",
    "#drive.mount('/content/drive')"
   ]
  },
  {
   "cell_type": "code",
   "execution_count": null,
   "metadata": {
    "id": "phcY5PRevHqi"
   },
   "outputs": [],
   "source": [
    "#with open('/content/drive/My Drive/wavenet-test/features.pickle', 'rb') as handle:\n",
    "#    features = pickle.load(handle)\n",
    "    \n",
    "#with open('/content/drive/My Drive/wavenet-test/labels.pickle', 'rb') as handle:\n",
    "#  labels = pickle.load(handle)\n",
    "\n",
    "#!cp '/content/drive/My Drive/wavenet-test/US8K.tar' ."
   ]
  },
  {
   "cell_type": "code",
   "execution_count": null,
   "metadata": {
    "colab": {
     "base_uri": "https://localhost:8080/",
     "height": 364
    },
    "id": "gBguM79zyEFq",
    "outputId": "b2c4b508-7106-404a-bcad-b9dd7925bfb5"
   },
   "outputs": [
    {
     "name": "stdout",
     "output_type": "stream",
     "text": [
      "Fri Oct  2 16:05:35 2020       \n",
      "+-----------------------------------------------------------------------------+\n",
      "| NVIDIA-SMI 455.23.05    Driver Version: 418.67       CUDA Version: 10.1     |\n",
      "|-------------------------------+----------------------+----------------------+\n",
      "| GPU  Name        Persistence-M| Bus-Id        Disp.A | Volatile Uncorr. ECC |\n",
      "| Fan  Temp  Perf  Pwr:Usage/Cap|         Memory-Usage | GPU-Util  Compute M. |\n",
      "|                               |                      |               MIG M. |\n",
      "|===============================+======================+======================|\n",
      "|   0  Tesla P100-PCIE...  Off  | 00000000:00:04.0 Off |                    0 |\n",
      "| N/A   47C    P0    39W / 250W |      0MiB / 16280MiB |      0%      Default |\n",
      "|                               |                      |                 ERR! |\n",
      "+-------------------------------+----------------------+----------------------+\n",
      "                                                                               \n",
      "+-----------------------------------------------------------------------------+\n",
      "| Processes:                                                                  |\n",
      "|  GPU   GI   CI        PID   Type   Process name                  GPU Memory |\n",
      "|        ID   ID                                                   Usage      |\n",
      "|=============================================================================|\n",
      "|  No running processes found                                                 |\n",
      "+-----------------------------------------------------------------------------+\n"
     ]
    }
   ],
   "source": [
    "!nvidia-smi"
   ]
  },
  {
   "cell_type": "code",
   "execution_count": null,
   "metadata": {
    "id": "cFkAKYajvyd9"
   },
   "outputs": [],
   "source": []
  },
  {
   "cell_type": "code",
   "execution_count": null,
   "metadata": {
    "id": "CqI7BGbPYWIE"
   },
   "outputs": [],
   "source": [
    "## Utils\n",
    "\n",
    "def create_new_model(depth, filters, kernel_size):\n",
    "  model = compiled_tcn(return_sequences = False, \n",
    "                     num_feat = 2,\n",
    "                     num_classes = 10,\n",
    "                     nb_filters = filters,\n",
    "                     kernel_size = kernel_size,\n",
    "                     dilations = [2 ** i for i in range(depth)],\n",
    "                     nb_stacks = 1,\n",
    "                     max_len = 174933,\n",
    "                     use_skip_connections = True,\n",
    "                     padding='same')\n",
    "  return model\n",
    "\n",
    "def load_model(depth, filters, kernel_size, save_dir=\"./\"):\n",
    "  model = create_new_model(depth, filters, kernel_size)\n",
    "  saved_model = save_dir + \"saved_wavenet_clasifier.h5\"\n",
    "  # model.load here\n",
    "  if os.path.isfile(saved_model):\n",
    "    model.load_weights(saved_model)\n",
    "  else:\n",
    "    print(\"NO MODEL ON DISK, USING BRAND NEW ONE\")\n",
    "  return model\n",
    "\n",
    "def create_callbacks(save_dir=\"./\"):\n",
    "  saved_model = save_dir + \"saved_wavenet_clasifier.h5\"\n",
    "  saved_hist  = save_dir + 'wavenet_classifier_training_history.csv'\n",
    "  checkpointer = ModelCheckpoint(filepath=saved_model, monitor='val_loss', verbose=1, save_best_only=True)\n",
    "  tensorboard  = TensorBoard(log_dir=save_dir)\n",
    "\n",
    "  return [checkpointer, tensorboard]"
   ]
  },
  {
   "cell_type": "code",
   "execution_count": null,
   "metadata": {
    "colab": {
     "base_uri": "https://localhost:8080/",
     "height": 298
    },
    "id": "QhEhWKmnZQ7O",
    "outputId": "11943d55-6fc9-4ce1-9ddc-849bd5a777cd"
   },
   "outputs": [],
   "source": [
    "all_X = []\n",
    "all_Y = []\n",
    "fulldatasetpath = './'\n",
    "metadata = pd.read_csv('http://76.213.149.126:8081/metadata/UrbanSound8K.csv')\n",
    "print(metadata)\n",
    "for index, row in metadata.iterrows():\n",
    "    \n",
    "    file_name = 'fold'+str(row[\"fold\"])+'/' + str(row[\"slice_file_name\"])\n",
    "    all_X.append(file_name.replace(\".wav\", \"_x2.pkl\"))\n",
    "    all_Y.append(file_name.replace(\".wav\", \"_y2.pkl\"))\n",
    "\n",
    "import requests\n",
    "from multiprocessing.pool import ThreadPool\n",
    " \n",
    "def download_url(url):\n",
    "  #print(\"downloading: \",url)\n",
    "  # assumes that the last segment after the / represents the file name\n",
    "  # if url is abc/xyz/file.txt, the file name will be file.txt\n",
    "  path = url.split(\"/\")\n",
    "  path = path[-2] + \"/\" + path[-1]\n",
    " \n",
    "  r = requests.get(url, stream=True)\n",
    "  if r.status_code == requests.codes.ok:\n",
    "    if not os.path.exists(os.path.dirname(path)):\n",
    "      try:\n",
    "          os.makedirs(os.path.dirname(path))\n",
    "      except OSError as exc: # Guard against race condition\n",
    "          if exc.errno != errno.EEXIST:\n",
    "              raise\n",
    "    with open(path, 'wb') as f:\n",
    "      for data in r:\n",
    "        f.write(data)\n",
    "  return url\n",
    "\n",
    "from sklearn.model_selection import train_test_split \n",
    "x_train, x_test, y_train, y_test = train_test_split(all_X, all_Y, test_size=0.2, random_state = 42)\n",
    "\n",
    "def file_to_arr(t: tf.Tensor):\n",
    "  x = []\n",
    "  y = []\n",
    "\n",
    "  urls = []\n",
    "\n",
    "  for a in t:\n",
    "    a = np.array(a)\n",
    "    # check whether we have them\n",
    "    # if not, schedule download\n",
    "    if not os.path.exists(a[0]):\n",
    "      urls.append(\"http://76.213.149.126:8081/audio/\" + a[0].decode('UTF-8'))\n",
    "    if not os.path.exists(a[1]):\n",
    "      urls.append(\"http://76.213.149.126:8081/audio/\" + a[1].decode('UTF-8'))\n",
    "  \n",
    "  if (len(urls) > 0):\n",
    "    ThreadPool(16).map(download_url, urls)\n",
    "\n",
    "  for a in t:\n",
    "    a = np.array(a)\n",
    "\n",
    "    x.append(pickle.load(open(a[0], 'rb')))\n",
    "    y.append(pickle.load(open(a[1], 'rb')))\n",
    "\n",
    "  x = np.array(x)\n",
    "  x = x.reshape((x.shape[0],174933,2))\n",
    "  #print(x.shape)\n",
    "  y = np.array(y).argmax(axis = 1)\n",
    "  res = (x,y)\n",
    "  #print (res)\n",
    "  return (res)\n",
    "\n",
    "print((list(zip(x_train, y_train))))\n",
    "train_ds = tf.data.Dataset.from_tensor_slices(list(zip(x_train, y_train)))\n",
    "train_ds = train_ds.batch(8)\n",
    "train_ds = train_ds.map((lambda x: tf.py_function(func=file_to_arr,inp=[x], Tout=(tf.float32, tf.int64))))\n",
    "train_ds = train_ds.prefetch(16)\n",
    "\n",
    "test_ds = tf.data.Dataset.from_tensor_slices(list(zip(x_test, y_test)))\n",
    "test_ds = test_ds.batch(8)\n",
    "test_ds = test_ds.map((lambda x: tf.py_function(func=file_to_arr,inp=[x], Tout=(tf.float32, tf.int64))))\n",
    "test_ds = test_ds.prefetch(16)"
   ]
  },
  {
   "cell_type": "code",
   "execution_count": null,
   "metadata": {
    "colab": {
     "base_uri": "https://localhost:8080/",
     "height": 69
    },
    "id": "UUR4vnrGlV49",
    "outputId": "5736ab4c-4882-453c-cf13-0ca8d9f71df7"
   },
   "outputs": [
    {
     "name": "stdout",
     "output_type": "stream",
     "text": [
      "x.shape= (None, 40)\n",
      "model.x = (None, 174933, 2)\n",
      "model.y = (None, 10)\n"
     ]
    }
   ],
   "source": [
    "model = create_new_model(13, 40, 6)\n",
    "#model = load_model(17, 20, 6, \"./drive/My Drive/wavenet-test/tcn/17_20_6_0.2_dual/\", )"
   ]
  },
  {
   "cell_type": "code",
   "execution_count": null,
   "metadata": {
    "colab": {
     "base_uri": "https://localhost:8080/",
     "height": 295
    },
    "id": "qFmf6xmbtHjj",
    "outputId": "0f690c79-60b3-498f-93f4-7b7f2e057d33"
   },
   "outputs": [
    {
     "name": "stdout",
     "output_type": "stream",
     "text": [
      "Model: \"functional_1\"\n",
      "_________________________________________________________________\n",
      "Layer (type)                 Output Shape              Param #   \n",
      "=================================================================\n",
      "input_1 (InputLayer)         [(None, 174933, 2)]       0         \n",
      "_________________________________________________________________\n",
      "tcn (TCN)                    (None, 40)                241640    \n",
      "_________________________________________________________________\n",
      "dense (Dense)                (None, 10)                410       \n",
      "_________________________________________________________________\n",
      "activation (Activation)      (None, 10)                0         \n",
      "=================================================================\n",
      "Total params: 242,050\n",
      "Trainable params: 242,050\n",
      "Non-trainable params: 0\n",
      "_________________________________________________________________\n"
     ]
    }
   ],
   "source": [
    "#callbacks = create_callbacks(\"./drive/My Drive/wavenet-test/tcn/17_20_6_0.2_dual/\")\n",
    "\n",
    "model.summary()"
   ]
  },
  {
   "cell_type": "code",
   "execution_count": null,
   "metadata": {
    "id": "FSx_1_XYh8oU"
   },
   "outputs": [],
   "source": [
    "#!cp ./drive/My\\ Drive/fold* .\n",
    "#!tar zxvf fold10.tgz"
   ]
  },
  {
   "cell_type": "code",
   "execution_count": null,
   "metadata": {
    "colab": {
     "base_uri": "https://localhost:8080/",
     "height": 332
    },
    "id": "zxV56ElGt2rK",
    "outputId": "3a2504a8-74c0-4e86-8b15-37b9919f01f9"
   },
   "outputs": [
    {
     "name": "stdout",
     "output_type": "stream",
     "text": [
      "Epoch 1/300\n",
      "  2/874 [..............................] - ETA: 8:59 - loss: 12.9693 - accuracy: 0.0000e+00WARNING:tensorflow:Callbacks method `on_train_batch_end` is slow compared to the batch time (batch time: 0.4848s vs `on_train_batch_end` time: 0.7554s). Check your callbacks.\n",
      "874/874 [==============================] - 1167s 1s/step - loss: 2.3887 - accuracy: 0.2249 - val_loss: 2.0023 - val_accuracy: 0.2685\n",
      "Epoch 2/300\n",
      "874/874 [==============================] - 1166s 1s/step - loss: 1.9658 - accuracy: 0.2730 - val_loss: 1.9155 - val_accuracy: 0.3137\n",
      "Epoch 3/300\n",
      "874/874 [==============================] - 1165s 1s/step - loss: 1.8587 - accuracy: 0.3084 - val_loss: 1.8612 - val_accuracy: 0.3177\n",
      "Epoch 4/300\n",
      "874/874 [==============================] - 1165s 1s/step - loss: 1.7688 - accuracy: 0.3632 - val_loss: 1.7598 - val_accuracy: 0.3955\n",
      "Epoch 5/300\n",
      "874/874 [==============================] - 1166s 1s/step - loss: 1.6666 - accuracy: 0.4087 - val_loss: 1.6889 - val_accuracy: 0.4161\n",
      "Epoch 6/300\n",
      "874/874 [==============================] - 1166s 1s/step - loss: 1.5923 - accuracy: 0.4345 - val_loss: 1.6567 - val_accuracy: 0.4362\n",
      "Epoch 7/300\n",
      "874/874 [==============================] - 1166s 1s/step - loss: 1.5668 - accuracy: 0.4498 - val_loss: 1.6440 - val_accuracy: 0.4619\n",
      "Epoch 8/300\n",
      "624/874 [====================>.........] - ETA: 5:07 - loss: 1.5301 - accuracy: 0.4702"
     ]
    }
   ],
   "source": [
    "model.fit(train_ds, validation_data=test_ds, epochs=300)"
   ]
  },
  {
   "cell_type": "code",
   "execution_count": null,
   "metadata": {
    "id": "XdG-aHgBjOPb"
   },
   "outputs": [],
   "source": []
  },
  {
   "cell_type": "code",
   "execution_count": null,
   "metadata": {
    "id": "sXj9Q2lnIV3E"
   },
   "outputs": [],
   "source": []
  },
  {
   "cell_type": "code",
   "execution_count": null,
   "metadata": {
    "colab": {
     "base_uri": "https://localhost:8080/",
     "height": 34
    },
    "id": "FI8W5jDM1Azs",
    "outputId": "ac644e83-bf0f-4023-cdb7-83e9cf15d449"
   },
   "outputs": [],
   "source": []
  },
  {
   "cell_type": "code",
   "execution_count": null,
   "metadata": {
    "id": "5BUW2V0VoxNG"
   },
   "outputs": [],
   "source": []
  },
  {
   "cell_type": "code",
   "execution_count": null,
   "metadata": {
    "id": "5c-fwSkZE149"
   },
   "outputs": [],
   "source": []
  },
  {
   "cell_type": "code",
   "execution_count": null,
   "metadata": {
    "colab": {
     "base_uri": "https://localhost:8080/",
     "height": 903
    },
    "id": "_efzcidn2GlQ",
    "outputId": "890821e9-35ff-40f1-a9e5-394b3a301a52"
   },
   "outputs": [],
   "source": []
  },
  {
   "cell_type": "code",
   "execution_count": null,
   "metadata": {
    "id": "MbI0_51MwA4s"
   },
   "outputs": [],
   "source": []
  },
  {
   "cell_type": "code",
   "execution_count": null,
   "metadata": {
    "colab": {
     "base_uri": "https://localhost:8080/",
     "height": 1000
    },
    "id": "-7arGMmNIqAI",
    "outputId": "6424d750-b77e-4487-a981-9c32cfe6c0ee"
   },
   "outputs": [],
   "source": []
  },
  {
   "cell_type": "code",
   "execution_count": null,
   "metadata": {
    "id": "KbVK1OwaeHGQ"
   },
   "outputs": [],
   "source": []
  }
 ],
 "metadata": {
  "accelerator": "GPU",
  "colab": {
   "collapsed_sections": [],
   "name": "Attempt 4 22khz tcn-classification.ipynb",
   "provenance": []
  },
  "kernelspec": {
   "display_name": "Python 3",
   "language": "python",
   "name": "python3"
  },
  "language_info": {
   "codemirror_mode": {
    "name": "ipython",
    "version": 3
   },
   "file_extension": ".py",
   "mimetype": "text/x-python",
   "name": "python",
   "nbconvert_exporter": "python",
   "pygments_lexer": "ipython3",
   "version": "3.8.6"
  }
 },
 "nbformat": 4,
 "nbformat_minor": 1
}
